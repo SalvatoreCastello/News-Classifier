{
 "cells": [
  {
   "cell_type": "code",
   "execution_count": null,
   "metadata": {},
   "outputs": [],
   "source": [
    "import pandas as pd\n",
    "\n",
    "def read_data(file_path):\n",
    "    print(\"Opening dataset: \", file_path)\n",
    "    df = pd.read_csv(file_path)\n",
    "    print(\"Dataframe shape: \", df.shape)\n",
    "    print(\"Dataframe columns: \", df.columns, \"\\n\")\n",
    "    return df"
   ]
  },
  {
   "cell_type": "code",
   "execution_count": null,
   "metadata": {},
   "outputs": [],
   "source": [
    "#Open CSV files\n",
    "true_data = read_data(\"Datasets/True.csv\")\n",
    "true_data['label'] = 1 # Add a label column to the true data\n",
    "\n",
    "false_data = read_data(\"Datasets/Fake.csv\")\n",
    "false_data['label'] = 0 # Add a label column to the fake data"
   ]
  },
  {
   "cell_type": "code",
   "execution_count": null,
   "metadata": {},
   "outputs": [],
   "source": [
    "#Check if there is any null value\n",
    "print(\"True data null values: \", true_data.isnull().sum())\n",
    "\n",
    "#We actually don't need the date column for the classification\n",
    "true_data.drop(columns=['date'])"
   ]
  },
  {
   "cell_type": "code",
   "execution_count": null,
   "metadata": {},
   "outputs": [],
   "source": [
    "#Check if there is any null value\n",
    "print(\"False data null values: \", false_data.isnull().sum())\n",
    "\n",
    "#The same goes for the false data\n",
    "false_data.drop(columns=['date'])"
   ]
  },
  {
   "cell_type": "code",
   "execution_count": null,
   "metadata": {},
   "outputs": [],
   "source": [
    "#Merge the two datasets\n",
    "dataset = pd.concat([true_data, false_data], ignore_index=True)\n",
    "print(\"Dataset merged, resulting shape: \", dataset.shape)\n",
    "\n",
    "assert dataset.shape[0] == true_data.shape[0] + false_data.shape[0]\n",
    "assert dataset.shape[1] == true_data.shape[1] == false_data.shape[1]"
   ]
  },
  {
   "cell_type": "code",
   "execution_count": null,
   "metadata": {},
   "outputs": [],
   "source": [
    "#Importing CountVectorizer to implement Bag of Words\n",
    "from sklearn.feature_extraction.text import CountVectorizer\n",
    "cv=CountVectorizer()"
   ]
  },
  {
   "cell_type": "code",
   "execution_count": null,
   "metadata": {},
   "outputs": [],
   "source": [
    "#test train data split\n",
    "from sklearn.model_selection import train_test_split\n",
    "X_train,X_test,y_train,y_test=train_test_split(dataset.text,dataset.label,test_size=.2,random_state=1)\n",
    "\n",
    "print(\"X_train shape: \", X_train.shape)\n",
    "print(\"X_test shape: \", X_test.shape)"
   ]
  },
  {
   "cell_type": "code",
   "execution_count": null,
   "metadata": {},
   "outputs": [],
   "source": [
    "#Fitting the classifier to the training data\n",
    "cv_1=cv.fit_transform(X_train)\n",
    "print(cv_1.shape)"
   ]
  },
  {
   "cell_type": "code",
   "execution_count": null,
   "metadata": {},
   "outputs": [],
   "source": [
    "#Using Random Forest to predict test values\n",
    "from sklearn.ensemble import RandomForestClassifier\n",
    "rf=RandomForestClassifier()\n",
    "rf.fit(cv_1,y_train)\n",
    "y_pred_randomForest=rf.predict(cv.transform(X_test))"
   ]
  },
  {
   "cell_type": "code",
   "execution_count": null,
   "metadata": {},
   "outputs": [],
   "source": [
    "#Computing the accuracy of the model\n",
    "from sklearn.metrics import accuracy_score\n",
    "print(accuracy_score(y_test,y_pred_randomForest))"
   ]
  },
  {
   "cell_type": "code",
   "execution_count": null,
   "metadata": {},
   "outputs": [],
   "source": [
    "#Plotting the accuracy of the model\n",
    "import matplotlib.pyplot as plt\n",
    "\n",
    "def plot_accuracy(y_test,y_pred_randomForest):\n",
    "    plt.figure(figsize=(5,5))\n",
    "    plt.pie([accuracy_score(y_test,y_pred_randomForest),1-accuracy_score(y_test,y_pred_randomForest)],labels=['Accuracy','Error'],autopct='%1.3f%%')\n",
    "    plt.show()\n",
    "\n",
    "plot_accuracy(y_test,y_pred_randomForest)"
   ]
  },
  {
   "cell_type": "code",
   "execution_count": null,
   "metadata": {},
   "outputs": [],
   "source": [
    "#Confusion Matrix\n",
    "from sklearn.metrics import confusion_matrix\n",
    "import seaborn as sns\n",
    "\n",
    "def plot_confusion_matrix(y_test,y_pred_randomForest):\n",
    "    plt.figure(figsize=(5,5))\n",
    "    cm=confusion_matrix(y_test,y_pred_randomForest)\n",
    "    sns.heatmap(cm,annot=True,fmt='d')\n",
    "    plt.xlabel('Predicted')\n",
    "    plt.ylabel('Truth')\n",
    "    plt.show()\n",
    "\n",
    "plot_confusion_matrix(y_test,y_pred_randomForest)"
   ]
  },
  {
   "cell_type": "code",
   "execution_count": null,
   "metadata": {},
   "outputs": [],
   "source": [
    "#Calculate the false positive rate, true positive rate\n",
    "from sklearn.metrics import roc_curve\n",
    "\n",
    "def plot_roc_curve(y_test,y_pred_randomForest):\n",
    "    fpr,tpr,_=roc_curve(y_test,y_pred_randomForest)\n",
    "    plt.figure(figsize=(5,5))\n",
    "    plt.plot(fpr,tpr)\n",
    "    plt.xlabel('False Positive Rate')\n",
    "    plt.ylabel('True Positive Rate')\n",
    "    plt.title('ROC Curve')\n",
    "    plt.show()\n",
    "\n",
    "plot_roc_curve(y_test,y_pred_randomForest)"
   ]
  },
  {
   "cell_type": "code",
   "execution_count": null,
   "metadata": {},
   "outputs": [],
   "source": [
    "from sklearn.neighbors import KNeighborsClassifier\n",
    "\n",
    "count_vectorizer=CountVectorizer()\n",
    "\n",
    "knn=KNeighborsClassifier(n_neighbors=5)\n",
    "knn.fit(cv_1,y_train)\n",
    "y_pred_knn=knn.predict(cv.transform(X_test))\n",
    "\n",
    "print(accuracy_score(y_test,y_pred_knn))"
   ]
  },
  {
   "cell_type": "code",
   "execution_count": null,
   "metadata": {},
   "outputs": [],
   "source": [
    "#Input a news article to test the model\n",
    "\n",
    "def test_news_input(text, classifier):\n",
    "    news_cv = cv.transform([text])\n",
    "\n",
    "    if classifier.predict(news_cv):\n",
    "        print(\"The news is true\")\n",
    "        return 1\n",
    "    else:\n",
    "        print(\"The news is fake\")\n",
    "        return 0\n",
    "\n",
    "test_news_input(\"Donald Trump\", rf)"
   ]
  }
 ],
 "metadata": {
  "kernelspec": {
   "display_name": "Python 3",
   "language": "python",
   "name": "python3"
  },
  "language_info": {
   "codemirror_mode": {
    "name": "ipython",
    "version": 3
   },
   "file_extension": ".py",
   "mimetype": "text/x-python",
   "name": "python",
   "nbconvert_exporter": "python",
   "pygments_lexer": "ipython3",
   "version": "3.10.11"
  }
 },
 "nbformat": 4,
 "nbformat_minor": 2
}
